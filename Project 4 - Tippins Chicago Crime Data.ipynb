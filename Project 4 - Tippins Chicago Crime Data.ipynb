{
 "cells": [
  {
   "cell_type": "markdown",
   "id": "6ec35eb1",
   "metadata": {},
   "source": [
    "# Prepare Chicago Crime Data for a GitHub Repository"
   ]
  },
  {
   "cell_type": "markdown",
   "id": "30284ecf",
   "metadata": {},
   "source": [
    "- Original Notebook Source: https://github.com/coding-dojo-data-science/preparing-chicago-crime-data\n",
    "- Updated 11/17/22"
   ]
  },
  {
   "cell_type": "markdown",
   "id": "8a7f3b6a",
   "metadata": {},
   "source": [
    ">- This notebook will process a \"Crimes - 2001 to Preset.csv\" crime file in your Downloads folder and save it as smaller .csv's in a new \"Data/Chicago/\" folder inside this notebook's folder/repo."
   ]
  },
  {
   "cell_type": "markdown",
   "id": "9c338d8e",
   "metadata": {},
   "source": [
    "# INSTRUCTIONS"
   ]
  },
  {
   "cell_type": "markdown",
   "id": "6509f0da",
   "metadata": {},
   "source": [
    "- 1) Go to the Chicago Data Portal's page for [\"Crimes - 2001 to Preset\"](https://data.cityofchicago.org/Public-Safety/Crimes-2001-to-Present/ijzp-q8t2).\n",
    "\n",
    "- 2) Click on the Export button on the top right and select CSV. \n",
    "    - Save the file to your Downloads folder instead of your repository. **The file is too big for a repository.**\n",
    "    \n",
    "    \n",
    "    \n",
    "- 3) Wait for the full file to download. \n",
    "    - It is very large (over >1.7GB and may take several minutes to fully download.)\n",
    "    \n",
    "    \n",
    "- 4) Once the download is complete, change `RAW_FILE` variable below to match the filepath to the downloaded file."
   ]
  },
  {
   "cell_type": "markdown",
   "id": "4627fa5b",
   "metadata": {},
   "source": [
    "## 🚨 Set the correct `RAW_FILE` path"
   ]
  },
  {
   "cell_type": "markdown",
   "id": "dc0efd42",
   "metadata": {},
   "source": [
    "- The cell below will attempt to check your Downloads folder for any file with a name that contains \"Crimes_-_2001_to_Present\".\n",
    "    - If you know the file path already, you can skip the next cell and just manually set the RAW_FILE variable in the following code cell."
   ]
  },
  {
   "cell_type": "code",
   "execution_count": 1,
   "id": "14eefd0c",
   "metadata": {
    "ExecuteTime": {
     "end_time": "2023-07-13T18:39:06.113262Z",
     "start_time": "2023-07-13T18:39:06.097636Z"
    }
   },
   "outputs": [
    {
     "name": "stdout",
     "output_type": "stream",
     "text": [
      "- Your Downloads folder is 'C:\\Users\\cathe\\Downloads/'\n",
      "\n"
     ]
    }
   ],
   "source": [
    "## Run the cell below to attempt to programmatically find your crime file\n",
    "import os,glob\n",
    "\n",
    "## Getting the home folder from environment variables\n",
    "home_folder = os.environ['HOME']\n",
    "# print(\"- Your Home Folder is: \" + home_folder)\n",
    "\n",
    "## Check for downloads folder\n",
    "if 'Downloads' in os.listdir(home_folder):\n",
    "    \n",
    "    \n",
    "    # Print the Downloads folder path\n",
    "    dl_folder = os.path.abspath(os.path.join(home_folder,'Downloads'))\n",
    "    print(f\"- Your Downloads folder is '{dl_folder}/'\\n\")\n",
    "    \n",
    "    ## checking for crime files using glob\n",
    "    crime_files = sorted(glob.glob(dl_folder+'/**/Crimes_-_2001_to_Present*',recursive=True))\n",
    "    \n",
    "    # If more than \n",
    "    if len(crime_files)==1:\n",
    "        RAW_FILE = crime_files[0]\n",
    "        \n",
    "    elif len(crime_files)>1:\n",
    "        print('[i] The following files were found:')\n",
    "        \n",
    "        for i, fname in enumerate(crime_files):\n",
    "            print(f\"\\tcrime_files[{i}] = '{fname}'\")\n",
    "        print(f'\\n- Please fill in the RAW_FILE variable in the code cell below with the correct filepath.')\n",
    "\n",
    "else:\n",
    "    print(f'[!] Could not programmatically find your downloads folder.')\n",
    "    print('- Try using Finder (on Mac) or File Explorer (Windows) to navigate to your Downloads folder.')\n"
   ]
  },
  {
   "cell_type": "markdown",
   "id": "54c15186",
   "metadata": {},
   "source": [
    "<span style=\"color:red\"> **IF THE CODE ABOVE DID NOT FIND YOUR DOWNLOADED FILE, UNCOMMENT AND CHANGE THE `\"YOUR FILEPATH HERE\"` VARIABLE ONLY IN THE CELL BELOW**"
   ]
  },
  {
   "cell_type": "code",
   "execution_count": 2,
   "id": "3c1267af",
   "metadata": {
    "ExecuteTime": {
     "end_time": "2023-07-13T18:39:06.128855Z",
     "start_time": "2023-07-13T18:39:06.113262Z"
    }
   },
   "outputs": [],
   "source": [
    "## (Required) MAKE SURE TO CHANGE THIS VARIABLE TO MATCH YOUR LOCAL FILE NAME\n",
    "##RAW_FILE = r\"YOUR FILEPATH HERE\")"
   ]
  },
  {
   "cell_type": "markdown",
   "id": "640ac578",
   "metadata": {},
   "source": [
    "<span style=\"color:red\"> **DO NOT CHANGE ANYTHING IN THE CELL BELOW**"
   ]
  },
  {
   "cell_type": "code",
   "execution_count": 3,
   "id": "12758206",
   "metadata": {
    "ExecuteTime": {
     "end_time": "2023-07-13T18:39:06.144512Z",
     "start_time": "2023-07-13T18:39:06.128855Z"
    }
   },
   "outputs": [
    {
     "data": {
      "text/plain": [
       "'C:\\\\Users\\\\cathe\\\\Downloads\\\\Crimes_-_2001_to_Present.csv'"
      ]
     },
     "execution_count": 3,
     "metadata": {},
     "output_type": "execute_result"
    }
   ],
   "source": [
    "## DO NOT CHANGE THIS CELL\n",
    "if RAW_FILE == r\"YOUR FILEPATH HERE\":\n",
    "\traise Exception(\"You must update the RAW_FILE variable in the previous cell to match your local filepath.\")\n",
    "\t\n",
    "RAW_FILE"
   ]
  },
  {
   "cell_type": "code",
   "execution_count": 4,
   "id": "f400f29a",
   "metadata": {
    "ExecuteTime": {
     "end_time": "2023-07-13T18:39:06.159778Z",
     "start_time": "2023-07-13T18:39:06.144512Z"
    }
   },
   "outputs": [],
   "source": [
    "## (Optional) SET THE FOLDER FOR FINAL FILES\n",
    "OUTPUT_FOLDER = 'Data/Chicago/'\n",
    "os.makedirs(OUTPUT_FOLDER, exist_ok=True)"
   ]
  },
  {
   "cell_type": "markdown",
   "id": "894c80f3",
   "metadata": {},
   "source": [
    "# 🔄 Full Workflow"
   ]
  },
  {
   "cell_type": "markdown",
   "id": "b6fefbd7",
   "metadata": {},
   "source": [
    "- Now that your RAW_FILE variable is set either:\n",
    "    - On the toolbar, click on the Kernel menu > \"Restart and Run All\".\n",
    "    - OR click on this cell first, then on the toolbar click on the \"Cell\" menu > \"Run All Below\""
   ]
  },
  {
   "cell_type": "code",
   "execution_count": 5,
   "id": "6ad7de4c",
   "metadata": {},
   "outputs": [
    {
     "name": "stdout",
     "output_type": "stream",
     "text": [
      "Requirement already satisfied: holidays in c:\\users\\cathe\\anacoda3\\envs\\dojo-env\\lib\\site-packages (0.34)\n",
      "Requirement already satisfied: python-dateutil in c:\\users\\cathe\\anacoda3\\envs\\dojo-env\\lib\\site-packages (from holidays) (2.8.2)\n",
      "Requirement already satisfied: six>=1.5 in c:\\users\\cathe\\anacoda3\\envs\\dojo-env\\lib\\site-packages (from python-dateutil->holidays) (1.16.0)\n"
     ]
    }
   ],
   "source": [
    "!pip install holidays\n"
   ]
  },
  {
   "cell_type": "code",
   "execution_count": 6,
   "id": "9ff0f1ee",
   "metadata": {},
   "outputs": [],
   "source": [
    "import pandas as pd\n",
    "import holidays\n",
    "import datetime as dt\n",
    "from holidays import country_holidays\n",
    "import numpy as np\n",
    "import matplotlib as mpl\n",
    "import matplotlib.pyplot as plt\n",
    "import seaborn as sns"
   ]
  },
  {
   "cell_type": "code",
   "execution_count": 7,
   "id": "0a19b6d3",
   "metadata": {
    "ExecuteTime": {
     "end_time": "2023-07-13T18:39:37.603136Z",
     "start_time": "2023-07-13T18:39:06.161469Z"
    }
   },
   "outputs": [
    {
     "data": {
      "text/html": [
       "<div>\n",
       "<style scoped>\n",
       "    .dataframe tbody tr th:only-of-type {\n",
       "        vertical-align: middle;\n",
       "    }\n",
       "\n",
       "    .dataframe tbody tr th {\n",
       "        vertical-align: top;\n",
       "    }\n",
       "\n",
       "    .dataframe thead th {\n",
       "        text-align: right;\n",
       "    }\n",
       "</style>\n",
       "<table border=\"1\" class=\"dataframe\">\n",
       "  <thead>\n",
       "    <tr style=\"text-align: right;\">\n",
       "      <th></th>\n",
       "      <th>ID</th>\n",
       "      <th>Case Number</th>\n",
       "      <th>Date</th>\n",
       "      <th>Block</th>\n",
       "      <th>IUCR</th>\n",
       "      <th>Primary Type</th>\n",
       "      <th>Description</th>\n",
       "      <th>Location Description</th>\n",
       "      <th>Arrest</th>\n",
       "      <th>Domestic</th>\n",
       "      <th>...</th>\n",
       "      <th>Ward</th>\n",
       "      <th>Community Area</th>\n",
       "      <th>FBI Code</th>\n",
       "      <th>X Coordinate</th>\n",
       "      <th>Y Coordinate</th>\n",
       "      <th>Year</th>\n",
       "      <th>Updated On</th>\n",
       "      <th>Latitude</th>\n",
       "      <th>Longitude</th>\n",
       "      <th>Location</th>\n",
       "    </tr>\n",
       "  </thead>\n",
       "  <tbody>\n",
       "    <tr>\n",
       "      <th>0</th>\n",
       "      <td>11646166</td>\n",
       "      <td>JC213529</td>\n",
       "      <td>09/01/2018 12:01:00 AM</td>\n",
       "      <td>082XX S INGLESIDE AVE</td>\n",
       "      <td>0810</td>\n",
       "      <td>THEFT</td>\n",
       "      <td>OVER $500</td>\n",
       "      <td>RESIDENCE</td>\n",
       "      <td>False</td>\n",
       "      <td>True</td>\n",
       "      <td>...</td>\n",
       "      <td>8.0</td>\n",
       "      <td>44.0</td>\n",
       "      <td>06</td>\n",
       "      <td>NaN</td>\n",
       "      <td>NaN</td>\n",
       "      <td>2018</td>\n",
       "      <td>04/06/2019 04:04:43 PM</td>\n",
       "      <td>NaN</td>\n",
       "      <td>NaN</td>\n",
       "      <td>NaN</td>\n",
       "    </tr>\n",
       "    <tr>\n",
       "      <th>1</th>\n",
       "      <td>11645836</td>\n",
       "      <td>JC212333</td>\n",
       "      <td>05/01/2016 12:25:00 AM</td>\n",
       "      <td>055XX S ROCKWELL ST</td>\n",
       "      <td>1153</td>\n",
       "      <td>DECEPTIVE PRACTICE</td>\n",
       "      <td>FINANCIAL IDENTITY THEFT OVER $ 300</td>\n",
       "      <td>NaN</td>\n",
       "      <td>False</td>\n",
       "      <td>False</td>\n",
       "      <td>...</td>\n",
       "      <td>15.0</td>\n",
       "      <td>63.0</td>\n",
       "      <td>11</td>\n",
       "      <td>NaN</td>\n",
       "      <td>NaN</td>\n",
       "      <td>2016</td>\n",
       "      <td>04/06/2019 04:04:43 PM</td>\n",
       "      <td>NaN</td>\n",
       "      <td>NaN</td>\n",
       "      <td>NaN</td>\n",
       "    </tr>\n",
       "    <tr>\n",
       "      <th>2</th>\n",
       "      <td>11449702</td>\n",
       "      <td>JB373031</td>\n",
       "      <td>07/31/2018 01:30:00 PM</td>\n",
       "      <td>009XX E HYDE PARK BLVD</td>\n",
       "      <td>2024</td>\n",
       "      <td>NARCOTICS</td>\n",
       "      <td>POSS: HEROIN(WHITE)</td>\n",
       "      <td>STREET</td>\n",
       "      <td>True</td>\n",
       "      <td>False</td>\n",
       "      <td>...</td>\n",
       "      <td>5.0</td>\n",
       "      <td>41.0</td>\n",
       "      <td>18</td>\n",
       "      <td>NaN</td>\n",
       "      <td>NaN</td>\n",
       "      <td>2018</td>\n",
       "      <td>04/09/2019 04:24:58 PM</td>\n",
       "      <td>NaN</td>\n",
       "      <td>NaN</td>\n",
       "      <td>NaN</td>\n",
       "    </tr>\n",
       "    <tr>\n",
       "      <th>3</th>\n",
       "      <td>11643334</td>\n",
       "      <td>JC209972</td>\n",
       "      <td>12/19/2018 04:30:00 PM</td>\n",
       "      <td>056XX W WELLINGTON AVE</td>\n",
       "      <td>1320</td>\n",
       "      <td>CRIMINAL DAMAGE</td>\n",
       "      <td>TO VEHICLE</td>\n",
       "      <td>STREET</td>\n",
       "      <td>False</td>\n",
       "      <td>False</td>\n",
       "      <td>...</td>\n",
       "      <td>31.0</td>\n",
       "      <td>19.0</td>\n",
       "      <td>14</td>\n",
       "      <td>NaN</td>\n",
       "      <td>NaN</td>\n",
       "      <td>2018</td>\n",
       "      <td>04/04/2019 04:16:11 PM</td>\n",
       "      <td>NaN</td>\n",
       "      <td>NaN</td>\n",
       "      <td>NaN</td>\n",
       "    </tr>\n",
       "    <tr>\n",
       "      <th>4</th>\n",
       "      <td>11645527</td>\n",
       "      <td>JC212744</td>\n",
       "      <td>02/02/2015 10:00:00 AM</td>\n",
       "      <td>069XX W ARCHER AVE</td>\n",
       "      <td>1153</td>\n",
       "      <td>DECEPTIVE PRACTICE</td>\n",
       "      <td>FINANCIAL IDENTITY THEFT OVER $ 300</td>\n",
       "      <td>OTHER</td>\n",
       "      <td>False</td>\n",
       "      <td>False</td>\n",
       "      <td>...</td>\n",
       "      <td>23.0</td>\n",
       "      <td>56.0</td>\n",
       "      <td>11</td>\n",
       "      <td>NaN</td>\n",
       "      <td>NaN</td>\n",
       "      <td>2015</td>\n",
       "      <td>04/06/2019 04:04:43 PM</td>\n",
       "      <td>NaN</td>\n",
       "      <td>NaN</td>\n",
       "      <td>NaN</td>\n",
       "    </tr>\n",
       "    <tr>\n",
       "      <th>...</th>\n",
       "      <td>...</td>\n",
       "      <td>...</td>\n",
       "      <td>...</td>\n",
       "      <td>...</td>\n",
       "      <td>...</td>\n",
       "      <td>...</td>\n",
       "      <td>...</td>\n",
       "      <td>...</td>\n",
       "      <td>...</td>\n",
       "      <td>...</td>\n",
       "      <td>...</td>\n",
       "      <td>...</td>\n",
       "      <td>...</td>\n",
       "      <td>...</td>\n",
       "      <td>...</td>\n",
       "      <td>...</td>\n",
       "      <td>...</td>\n",
       "      <td>...</td>\n",
       "      <td>...</td>\n",
       "      <td>...</td>\n",
       "      <td>...</td>\n",
       "    </tr>\n",
       "    <tr>\n",
       "      <th>7885605</th>\n",
       "      <td>13128007</td>\n",
       "      <td>JG325985</td>\n",
       "      <td>06/21/2023 08:00:00 PM</td>\n",
       "      <td>031XX N CALIFORNIA AVE</td>\n",
       "      <td>1320</td>\n",
       "      <td>CRIMINAL DAMAGE</td>\n",
       "      <td>TO VEHICLE</td>\n",
       "      <td>STREET</td>\n",
       "      <td>False</td>\n",
       "      <td>False</td>\n",
       "      <td>...</td>\n",
       "      <td>35.0</td>\n",
       "      <td>21.0</td>\n",
       "      <td>14</td>\n",
       "      <td>1157169.0</td>\n",
       "      <td>1920611.0</td>\n",
       "      <td>2023</td>\n",
       "      <td>08/19/2023 03:40:26 PM</td>\n",
       "      <td>41.937926</td>\n",
       "      <td>-87.697782</td>\n",
       "      <td>(41.937925817, -87.697782474)</td>\n",
       "    </tr>\n",
       "    <tr>\n",
       "      <th>7885606</th>\n",
       "      <td>13128324</td>\n",
       "      <td>JG326502</td>\n",
       "      <td>05/13/2023 12:00:00 PM</td>\n",
       "      <td>020XX W CERMAK RD</td>\n",
       "      <td>1120</td>\n",
       "      <td>DECEPTIVE PRACTICE</td>\n",
       "      <td>FORGERY</td>\n",
       "      <td>CURRENCY EXCHANGE</td>\n",
       "      <td>False</td>\n",
       "      <td>False</td>\n",
       "      <td>...</td>\n",
       "      <td>25.0</td>\n",
       "      <td>31.0</td>\n",
       "      <td>10</td>\n",
       "      <td>1163211.0</td>\n",
       "      <td>1889404.0</td>\n",
       "      <td>2023</td>\n",
       "      <td>08/19/2023 03:40:26 PM</td>\n",
       "      <td>41.852166</td>\n",
       "      <td>-87.676455</td>\n",
       "      <td>(41.85216632, -87.676455032)</td>\n",
       "    </tr>\n",
       "    <tr>\n",
       "      <th>7885607</th>\n",
       "      <td>13128375</td>\n",
       "      <td>JG326564</td>\n",
       "      <td>06/24/2023 01:29:00 PM</td>\n",
       "      <td>069XX N HAMILTON AVE</td>\n",
       "      <td>1330</td>\n",
       "      <td>CRIMINAL TRESPASS</td>\n",
       "      <td>TO LAND</td>\n",
       "      <td>RESIDENCE</td>\n",
       "      <td>False</td>\n",
       "      <td>False</td>\n",
       "      <td>...</td>\n",
       "      <td>40.0</td>\n",
       "      <td>2.0</td>\n",
       "      <td>26</td>\n",
       "      <td>1160740.0</td>\n",
       "      <td>1946176.0</td>\n",
       "      <td>2023</td>\n",
       "      <td>08/19/2023 03:40:26 PM</td>\n",
       "      <td>42.008004</td>\n",
       "      <td>-87.683946</td>\n",
       "      <td>(42.008003927, -87.683946124)</td>\n",
       "    </tr>\n",
       "    <tr>\n",
       "      <th>7885608</th>\n",
       "      <td>13129172</td>\n",
       "      <td>JG327619</td>\n",
       "      <td>06/20/2023 04:00:00 AM</td>\n",
       "      <td>028XX N MAPLEWOOD AVE</td>\n",
       "      <td>0460</td>\n",
       "      <td>BATTERY</td>\n",
       "      <td>SIMPLE</td>\n",
       "      <td>RESIDENCE</td>\n",
       "      <td>False</td>\n",
       "      <td>True</td>\n",
       "      <td>...</td>\n",
       "      <td>35.0</td>\n",
       "      <td>21.0</td>\n",
       "      <td>08B</td>\n",
       "      <td>1158868.0</td>\n",
       "      <td>1918755.0</td>\n",
       "      <td>2023</td>\n",
       "      <td>08/19/2023 03:40:26 PM</td>\n",
       "      <td>41.932798</td>\n",
       "      <td>-87.691589</td>\n",
       "      <td>(41.932798095, -87.691589364)</td>\n",
       "    </tr>\n",
       "    <tr>\n",
       "      <th>7885609</th>\n",
       "      <td>13129823</td>\n",
       "      <td>JG328250</td>\n",
       "      <td>06/28/2023 06:00:00 PM</td>\n",
       "      <td>059XX S KEELER AVE</td>\n",
       "      <td>0810</td>\n",
       "      <td>THEFT</td>\n",
       "      <td>OVER $500</td>\n",
       "      <td>STREET</td>\n",
       "      <td>False</td>\n",
       "      <td>False</td>\n",
       "      <td>...</td>\n",
       "      <td>13.0</td>\n",
       "      <td>65.0</td>\n",
       "      <td>06</td>\n",
       "      <td>1149387.0</td>\n",
       "      <td>1864869.0</td>\n",
       "      <td>2023</td>\n",
       "      <td>08/19/2023 03:40:26 PM</td>\n",
       "      <td>41.785118</td>\n",
       "      <td>-87.727828</td>\n",
       "      <td>(41.785117789, -87.727827896)</td>\n",
       "    </tr>\n",
       "  </tbody>\n",
       "</table>\n",
       "<p>7885610 rows × 22 columns</p>\n",
       "</div>"
      ],
      "text/plain": [
       "               ID Case Number                    Date                   Block  \\\n",
       "0        11646166    JC213529  09/01/2018 12:01:00 AM   082XX S INGLESIDE AVE   \n",
       "1        11645836    JC212333  05/01/2016 12:25:00 AM     055XX S ROCKWELL ST   \n",
       "2        11449702    JB373031  07/31/2018 01:30:00 PM  009XX E HYDE PARK BLVD   \n",
       "3        11643334    JC209972  12/19/2018 04:30:00 PM  056XX W WELLINGTON AVE   \n",
       "4        11645527    JC212744  02/02/2015 10:00:00 AM      069XX W ARCHER AVE   \n",
       "...           ...         ...                     ...                     ...   \n",
       "7885605  13128007    JG325985  06/21/2023 08:00:00 PM  031XX N CALIFORNIA AVE   \n",
       "7885606  13128324    JG326502  05/13/2023 12:00:00 PM       020XX W CERMAK RD   \n",
       "7885607  13128375    JG326564  06/24/2023 01:29:00 PM    069XX N HAMILTON AVE   \n",
       "7885608  13129172    JG327619  06/20/2023 04:00:00 AM   028XX N MAPLEWOOD AVE   \n",
       "7885609  13129823    JG328250  06/28/2023 06:00:00 PM      059XX S KEELER AVE   \n",
       "\n",
       "         IUCR        Primary Type                          Description  \\\n",
       "0        0810               THEFT                            OVER $500   \n",
       "1        1153  DECEPTIVE PRACTICE  FINANCIAL IDENTITY THEFT OVER $ 300   \n",
       "2        2024           NARCOTICS                  POSS: HEROIN(WHITE)   \n",
       "3        1320     CRIMINAL DAMAGE                           TO VEHICLE   \n",
       "4        1153  DECEPTIVE PRACTICE  FINANCIAL IDENTITY THEFT OVER $ 300   \n",
       "...       ...                 ...                                  ...   \n",
       "7885605  1320     CRIMINAL DAMAGE                           TO VEHICLE   \n",
       "7885606  1120  DECEPTIVE PRACTICE                              FORGERY   \n",
       "7885607  1330   CRIMINAL TRESPASS                              TO LAND   \n",
       "7885608  0460             BATTERY                               SIMPLE   \n",
       "7885609  0810               THEFT                            OVER $500   \n",
       "\n",
       "        Location Description  Arrest  Domestic  ...  Ward  Community Area  \\\n",
       "0                  RESIDENCE   False      True  ...   8.0            44.0   \n",
       "1                        NaN   False     False  ...  15.0            63.0   \n",
       "2                     STREET    True     False  ...   5.0            41.0   \n",
       "3                     STREET   False     False  ...  31.0            19.0   \n",
       "4                      OTHER   False     False  ...  23.0            56.0   \n",
       "...                      ...     ...       ...  ...   ...             ...   \n",
       "7885605               STREET   False     False  ...  35.0            21.0   \n",
       "7885606    CURRENCY EXCHANGE   False     False  ...  25.0            31.0   \n",
       "7885607            RESIDENCE   False     False  ...  40.0             2.0   \n",
       "7885608            RESIDENCE   False      True  ...  35.0            21.0   \n",
       "7885609               STREET   False     False  ...  13.0            65.0   \n",
       "\n",
       "         FBI Code  X Coordinate Y Coordinate  Year              Updated On  \\\n",
       "0              06           NaN          NaN  2018  04/06/2019 04:04:43 PM   \n",
       "1              11           NaN          NaN  2016  04/06/2019 04:04:43 PM   \n",
       "2              18           NaN          NaN  2018  04/09/2019 04:24:58 PM   \n",
       "3              14           NaN          NaN  2018  04/04/2019 04:16:11 PM   \n",
       "4              11           NaN          NaN  2015  04/06/2019 04:04:43 PM   \n",
       "...           ...           ...          ...   ...                     ...   \n",
       "7885605        14     1157169.0    1920611.0  2023  08/19/2023 03:40:26 PM   \n",
       "7885606        10     1163211.0    1889404.0  2023  08/19/2023 03:40:26 PM   \n",
       "7885607        26     1160740.0    1946176.0  2023  08/19/2023 03:40:26 PM   \n",
       "7885608       08B     1158868.0    1918755.0  2023  08/19/2023 03:40:26 PM   \n",
       "7885609        06     1149387.0    1864869.0  2023  08/19/2023 03:40:26 PM   \n",
       "\n",
       "          Latitude  Longitude                       Location  \n",
       "0              NaN        NaN                            NaN  \n",
       "1              NaN        NaN                            NaN  \n",
       "2              NaN        NaN                            NaN  \n",
       "3              NaN        NaN                            NaN  \n",
       "4              NaN        NaN                            NaN  \n",
       "...            ...        ...                            ...  \n",
       "7885605  41.937926 -87.697782  (41.937925817, -87.697782474)  \n",
       "7885606  41.852166 -87.676455   (41.85216632, -87.676455032)  \n",
       "7885607  42.008004 -87.683946  (42.008003927, -87.683946124)  \n",
       "7885608  41.932798 -87.691589  (41.932798095, -87.691589364)  \n",
       "7885609  41.785118 -87.727828  (41.785117789, -87.727827896)  \n",
       "\n",
       "[7885610 rows x 22 columns]"
      ]
     },
     "execution_count": 7,
     "metadata": {},
     "output_type": "execute_result"
    }
   ],
   "source": [
    "chicago_full = pd.read_csv(RAW_FILE)\n",
    "chicago_full"
   ]
  },
  {
   "cell_type": "code",
   "execution_count": null,
   "id": "13ea2508",
   "metadata": {
    "ExecuteTime": {
     "end_time": "2023-07-13T18:40:10.714159Z",
     "start_time": "2023-07-13T18:39:37.606100Z"
    }
   },
   "outputs": [],
   "source": [
    "# this cell can take up to 1 min to run\n",
    "date_format = \"%m/%d/%Y %H:%M:%S %p\"\n",
    "\n",
    "chicago_full['Datetime'] = pd.to_datetime(chicago_full['Date'], format=date_format)\n",
    "chicago_full = chicago_full.sort_values('Datetime')\n",
    "chicago_full"
   ]
  },
  {
   "cell_type": "markdown",
   "id": "1d5375bd",
   "metadata": {},
   "source": [
    "## Separate the Full Dataset by Years"
   ]
  },
  {
   "cell_type": "code",
   "execution_count": null,
   "id": "dad9de53",
   "metadata": {
    "ExecuteTime": {
     "end_time": "2023-07-13T18:40:11.180018Z",
     "start_time": "2023-07-13T18:40:10.716168Z"
    }
   },
   "outputs": [],
   "source": [
    "chicago_full['Datetime'].dt.year"
   ]
  },
  {
   "cell_type": "code",
   "execution_count": null,
   "id": "387c9dac",
   "metadata": {
    "ExecuteTime": {
     "end_time": "2023-07-13T18:40:14.503394Z",
     "start_time": "2023-07-13T18:40:11.180018Z"
    }
   },
   "outputs": [],
   "source": [
    "# save the years for every crime\n",
    "chicago_full[\"Year\"] = chicago_full['Datetime'].dt.year.astype(str)\n",
    "chicago_full[\"Year\"].value_counts()"
   ]
  },
  {
   "cell_type": "code",
   "execution_count": null,
   "id": "6417fc0d",
   "metadata": {
    "ExecuteTime": {
     "end_time": "2023-07-13T18:40:14.519321Z",
     "start_time": "2023-07-13T18:40:14.503394Z"
    }
   },
   "outputs": [],
   "source": [
    "## Dropping unneeded columns to reduce file size\n",
    "drop_cols = [\"X Coordinate\",\"Y Coordinate\", \"Community Area\",\"FBI Code\",\n",
    "             \"Case Number\",\"Updated On\",'Block','Location','IUCR']"
   ]
  },
  {
   "cell_type": "code",
   "execution_count": null,
   "id": "e90d0318",
   "metadata": {
    "ExecuteTime": {
     "end_time": "2023-07-13T18:40:16.159650Z",
     "start_time": "2023-07-13T18:40:14.522767Z"
    }
   },
   "outputs": [],
   "source": [
    "# save final df\n",
    "chicago_final = chicago_full.drop(columns=drop_cols)\n",
    "chicago_final = chicago_final.set_index('Datetime')\n",
    "chicago_final"
   ]
  },
  {
   "cell_type": "code",
   "execution_count": null,
   "id": "832f341c",
   "metadata": {
    "ExecuteTime": {
     "end_time": "2023-07-13T18:40:16.676218Z",
     "start_time": "2023-07-13T18:40:16.160647Z"
    }
   },
   "outputs": [],
   "source": [
    "# unique # of year bins\n",
    "year_bins = chicago_final['Year'].astype(str).unique()\n",
    "year_bins"
   ]
  },
  {
   "cell_type": "code",
   "execution_count": null,
   "id": "bb26f899",
   "metadata": {
    "ExecuteTime": {
     "end_time": "2023-07-13T18:40:16.691273Z",
     "start_time": "2023-07-13T18:40:16.677451Z"
    }
   },
   "outputs": [],
   "source": [
    "FINAL_DROP = ['Year']"
   ]
  },
  {
   "cell_type": "markdown",
   "id": "c5302540",
   "metadata": {},
   "source": [
    "## Confirmation"
   ]
  },
  {
   "cell_type": "markdown",
   "id": "4bc8e8ed",
   "metadata": {},
   "source": [
    "- Follow the example usage above to test if your files were created successfully."
   ]
  },
  {
   "cell_type": "code",
   "execution_count": null,
   "id": "23f44c51",
   "metadata": {
    "ExecuteTime": {
     "end_time": "2023-07-13T18:41:03.084274Z",
     "start_time": "2023-07-13T18:41:02.852773Z"
    }
   },
   "outputs": [],
   "source": [
    "# get list of files from folder\n",
    "crime_files = sorted(glob.glob(OUTPUT_FOLDER+\"*.csv\"))\n",
    "df = pd.concat([pd.read_csv(f, nrows=5) for f in crime_files])\n",
    "df"
   ]
  },
  {
   "cell_type": "code",
   "execution_count": null,
   "id": "9552508d",
   "metadata": {
    "ExecuteTime": {
     "end_time": "2023-07-13T18:41:03.099901Z",
     "start_time": "2023-07-13T18:41:03.084274Z"
    }
   },
   "outputs": [],
   "source": [
    "years = df['Date'].map(lambda x: x.split()[0].split('/')[-1])\n",
    "years.value_counts().sort_index()"
   ]
  },
  {
   "cell_type": "markdown",
   "id": "999fe20a",
   "metadata": {},
   "source": [
    "## Summary"
   ]
  },
  {
   "cell_type": "markdown",
   "id": "cda0d418",
   "metadata": {},
   "source": [
    "- The chicago crime dataset has now been saved to your repository as csv files. \n",
    "- You should save your notebook, commit your work and push to GitHub using GitHub desktop."
   ]
  },
  {
   "cell_type": "markdown",
   "id": "1b120c65",
   "metadata": {},
   "source": [
    "## Topics and Answers"
   ]
  },
  {
   "cell_type": "markdown",
   "id": "75ad2bb0",
   "metadata": {},
   "source": [
    "# Topic 3: Comparing AM vs PM Rush Hour\n",
    "Q1:Are crimes more common during AM rush hour or PM rush hour?\n",
    "You can consider any crime that occurred between 7 AM - 10 AM as AM rush hour\n",
    "You can consider any crime that occurred between 4 -7 PM as PM rush hour. \n",
    "A1: There is equal number of crime during AM and PM rush hour.\n",
    "Q2:What are the top 5 most common crimes during AM rush hour? What are the top 5 most common crimes during PM rush hour?\n",
    "Are Motor Vehicle Thefts more common during AM rush hour or PM Rush Hour?\n",
    "A2: Motor Vehicle Thefts are more common during AM rush hour. \n",
    "\n",
    "AM Crimes:\n",
    "1. Motor Vehicle Thefts\n",
    "2. Property Damage\n",
    "3. Vehicle Damage \n",
    "\n",
    "PM Crimes:\n",
    "1. Theft $500 and under\n",
    "\n",
    "2. Domestic Battery \n",
    "3. Finanical Identity Theft over $300 dollars"
   ]
  },
  {
   "cell_type": "code",
   "execution_count": null,
   "id": "96a021e9",
   "metadata": {},
   "outputs": [],
   "source": [
    "## Get # of crimes by Hour\n",
    "crimes_by_hour = df.groupby('Description')['Date'].value_counts().sort_index()\n",
    "crimes_by_hour"
   ]
  },
  {
   "cell_type": "code",
   "execution_count": null,
   "id": "19b36e43",
   "metadata": {},
   "outputs": [],
   "source": [
    "crimes_by_hour.plot();"
   ]
  },
  {
   "cell_type": "code",
   "execution_count": null,
   "id": "f399787c",
   "metadata": {},
   "outputs": [],
   "source": [
    "## convert to dataframe and reset_index()\n",
    "plot_df = crimes_by_hour.to_frame('# of Crimes').reset_index()\n",
    "plot_df"
   ]
  },
  {
   "cell_type": "code",
   "execution_count": null,
   "id": "95ea1e51",
   "metadata": {},
   "outputs": [],
   "source": [
    "ax = sns.lineplot(data=plot_df, x='Date',y='# of Crimes')"
   ]
  },
  {
   "cell_type": "code",
   "execution_count": null,
   "id": "f1b214fb",
   "metadata": {},
   "outputs": [],
   "source": [
    "fig, ax = plt.subplots(figsize=(12,6))\n",
    "sns.lineplot(data=plot_df, x='Date',y='# of Crimes',markers=True,\n",
    "                  hue='Description',ax=ax,)\n",
    "ax.legend(bbox_to_anchor=[1,1]);"
   ]
  },
  {
   "cell_type": "code",
   "execution_count": null,
   "id": "e62f2cdc",
   "metadata": {},
   "outputs": [],
   "source": [
    "g = sns.catplot(data=plot_df, x='Date', y='# of Crimes',\n",
    "                kind='point',aspect=2, height=4,\n",
    "                hue='Description', col='Description',col_wrap=2,\n",
    "               sharey=False, sharex=False)\n",
    "[ax.grid(axis='x') for ax in g.axes];"
   ]
  },
  {
   "cell_type": "code",
   "execution_count": null,
   "id": "ed8dd499",
   "metadata": {},
   "outputs": [],
   "source": [
    "crime_perc_by_hour = df.groupby('Description')['Date'].value_counts(normalize=True).sort_index()\n",
    "crime_perc_by_hour"
   ]
  },
  {
   "cell_type": "code",
   "execution_count": null,
   "id": "8951485e",
   "metadata": {},
   "outputs": [],
   "source": [
    "## Convert to dataframe and reset index\n",
    "plot_df_perc = crime_perc_by_hour.to_frame('# of Crimes').reset_index()\n",
    "plot_df_perc"
   ]
  },
  {
   "cell_type": "code",
   "execution_count": null,
   "id": "6ce0fbc5",
   "metadata": {},
   "outputs": [],
   "source": [
    "# looping through the value counts series\n",
    "val_counts_by_hour = df.groupby('Description')['Date'].value_counts()\n",
    "val_counts_by_hour"
   ]
  },
  {
   "cell_type": "code",
   "execution_count": null,
   "id": "adc6718c",
   "metadata": {},
   "outputs": [],
   "source": [
    "## Getting all of the crimes from the first level of the index\n",
    "crime_list = val_counts_by_hour.index.levels[0]\n",
    "crime_list"
   ]
  },
  {
   "cell_type": "code",
   "execution_count": null,
   "id": "72c61cae",
   "metadata": {},
   "outputs": [],
   "source": [
    "g = sns.catplot(data=plot_df_perc, x='Date', y='# of Crimes',\n",
    "                hue='Description', col='Description',col_wrap=2,\n",
    "            aspect=2, height=4,\n",
    "           kind='point',sharey=False,sharex=False);\n",
    "## loop throught the axes dict\n",
    "for col, ax in g.axes_dict.items():\n",
    "    \n",
    "    ## Extract the idx min and idxmax from the val counts\n",
    "    min_, max_ = val_counts_by_hour.loc[col].agg(['idxmin','idxmax'])\n",
    "    \n",
    "    ## add vlines for both and SAVE THE LINE and a label to use in legend\n",
    "    ln1 = ax.axvline(min_, color='darkgreen',ls='--')\n",
    "    lab1 = f'Min(Hour={min_})'\n",
    "    \n",
    "    ln2 = ax.axvline(max_,color='darkred',ls='--')\n",
    "    lab2 = f'Max(Hour={max_})'\n",
    "    \n",
    "    ## manually add legend using list of ln1 and ln2 and a list of labels\n",
    "    ax.legend( [ln1,ln2], [lab1,lab2] )\n",
    "    ## add x grid\n",
    "    ax.grid(axis='x')\n",
    "    \n",
    "g.fig"
   ]
  },
  {
   "cell_type": "markdown",
   "id": "efdb8211",
   "metadata": {},
   "source": [
    "# Topic 4: Comparing Months\n",
    "Q1. What months have the most crime? What months have the least?\n",
    "\n",
    "Q2.Are there any individual crimes that do not follow this pattern? If so, which crimes?\n",
    "\n",
    "A1. During the Prime Summer months between April- August there is a spike in crime and during the Prime Winter months of October- January there is a spike in crime as well. Months of February, March, and September have the least amount of crime. \n",
    "\n",
    "A2. There are no individual crimes that do not follow this pattern."
   ]
  },
  {
   "cell_type": "markdown",
   "id": "162299c3",
   "metadata": {},
   "source": [
    "# Topic 5: Comparing Holidays:\n",
    "Q1: Are there any holidays that show an increase in the # of crimes?\n",
    "Q2: Are there any holidays that show a decrease in the # of crimes?\n",
    "\n",
    "A1. The main holiday that showed an increase of crime is New Years Day. \n",
    "\n",
    "A2. There are no  holidays that show a decrease in the # of crime."
   ]
  },
  {
   "cell_type": "code",
   "execution_count": null,
   "id": "ce24381a",
   "metadata": {},
   "outputs": [],
   "source": [
    "## making a date range that covers full dataset\n",
    "all_days = pd.date_range(df[\"Date\"].min(), df[\"Date\"].max())\n",
    "all_days"
   ]
  },
  {
   "cell_type": "code",
   "execution_count": null,
   "id": "e22949c7",
   "metadata": {},
   "outputs": [],
   "source": [
    "## Create an instance of the US country holidays.\n",
    "us_holidays = country_holidays('US')\n",
    "us_holidays"
   ]
  },
  {
   "cell_type": "code",
   "execution_count": null,
   "id": "a893d457",
   "metadata": {},
   "outputs": [],
   "source": [
    "## Testing first date\n",
    "print(all_days[0])\n",
    "us_holidays.get(all_days[0])"
   ]
  },
  {
   "cell_type": "code",
   "execution_count": null,
   "id": "340aea16",
   "metadata": {},
   "outputs": [],
   "source": [
    "## Getting us holidays for all dates\n",
    "holiday_list = [us_holidays.get(day) for day in all_days]\n",
    "holiday_list[:5]"
   ]
  },
  {
   "cell_type": "code",
   "execution_count": null,
   "id": "6cb47819",
   "metadata": {},
   "outputs": [],
   "source": [
    "# For a specific subdivisions (e.g. state or province):\n",
    "md_holidays = country_holidays('US', subdiv='MD')\n",
    "md_holidays"
   ]
  },
  {
   "cell_type": "code",
   "execution_count": null,
   "id": "69fccd89",
   "metadata": {},
   "outputs": [],
   "source": [
    "## Saving both holiday types as columns\n",
    "df[\"US Holiday\"] = [us_holidays.get(day) for day in df['Date']]\n",
    "df['MD Holiday'] = [md_holidays.get(day) for day in df['Date']]\n",
    "df.head()"
   ]
  },
  {
   "cell_type": "code",
   "execution_count": null,
   "id": "65d3d771",
   "metadata": {},
   "outputs": [],
   "source": [
    "## US Holidays\n",
    "df['US Holiday'].value_counts()"
   ]
  },
  {
   "cell_type": "code",
   "execution_count": null,
   "id": "7f17c348",
   "metadata": {},
   "outputs": [],
   "source": [
    "## MD Holidays\n",
    "df['MD Holiday'].value_counts()"
   ]
  },
  {
   "cell_type": "code",
   "execution_count": null,
   "id": "61b618e8",
   "metadata": {},
   "outputs": [],
   "source": [
    "## Saving a binary is holiday feature\n",
    "df['Is_Holiday'] = df['US Holiday'].notna()\n",
    "df['Is_Holiday'].value_counts()"
   ]
  }
 ],
 "metadata": {
  "kernelspec": {
   "display_name": "Python (dojo-env)",
   "language": "python",
   "name": "dojo-env"
  },
  "language_info": {
   "codemirror_mode": {
    "name": "ipython",
    "version": 3
   },
   "file_extension": ".py",
   "mimetype": "text/x-python",
   "name": "python",
   "nbconvert_exporter": "python",
   "pygments_lexer": "ipython3",
   "version": "3.9.15"
  },
  "toc": {
   "base_numbering": 1,
   "nav_menu": {},
   "number_sections": false,
   "sideBar": true,
   "skip_h1_title": false,
   "title_cell": "Table of Contents",
   "title_sidebar": "Contents",
   "toc_cell": false,
   "toc_position": {
    "height": "calc(100% - 180px)",
    "left": "10px",
    "top": "150px",
    "width": "262.387px"
   },
   "toc_section_display": true,
   "toc_window_display": false
  }
 },
 "nbformat": 4,
 "nbformat_minor": 5
}
