{
 "cells": [
  {
   "cell_type": "markdown",
   "id": "6ec35eb1",
   "metadata": {},
   "source": [
    "# Prepare Chicago Crime Data for a GitHub Repository"
   ]
  },
  {
   "cell_type": "markdown",
   "id": "30284ecf",
   "metadata": {},
   "source": [
    "- Original Notebook Source: https://github.com/coding-dojo-data-science/preparing-chicago-crime-data\n",
    "- Updated 11/17/22"
   ]
  },
  {
   "cell_type": "markdown",
   "id": "8a7f3b6a",
   "metadata": {},
   "source": [
    ">- This notebook will process a \"Crimes - 2001 to Preset.csv\" crime file in your Downloads folder and save it as smaller .csv's in a new \"Data/Chicago/\" folder inside this notebook's folder/repo."
   ]
  },
  {
   "cell_type": "markdown",
   "id": "9c338d8e",
   "metadata": {},
   "source": [
    "# INSTRUCTIONS"
   ]
  },
  {
   "cell_type": "markdown",
   "id": "6509f0da",
   "metadata": {},
   "source": [
    "- 1) Go to the Chicago Data Portal's page for [\"Crimes - 2001 to Preset\"](https://data.cityofchicago.org/Public-Safety/Crimes-2001-to-Present/ijzp-q8t2).\n",
    "\n",
    "- 2) Click on the Export button on the top right and select CSV. \n",
    "    - Save the file to your Downloads folder instead of your repository. **The file is too big for a repository.**\n",
    "    \n",
    "    \n",
    "    \n",
    "- 3) Wait for the full file to download. \n",
    "    - It is very large (over >1.7GB and may take several minutes to fully download.)\n",
    "    \n",
    "    \n",
    "- 4) Once the download is complete, change `RAW_FILE` variable below to match the filepath to the downloaded file."
   ]
  },
  {
   "cell_type": "markdown",
   "id": "4627fa5b",
   "metadata": {},
   "source": [
    "## 🚨 Set the correct `RAW_FILE` path"
   ]
  },
  {
   "cell_type": "markdown",
   "id": "dc0efd42",
   "metadata": {},
   "source": [
    "- The cell below will attempt to check your Downloads folder for any file with a name that contains \"Crimes_-_2001_to_Present\".\n",
    "    - If you know the file path already, you can skip the next cell and just manually set the RAW_FILE variable in the following code cell."
   ]
  },
  {
   "cell_type": "markdown",
   "id": "54c15186",
   "metadata": {},
   "source": [
    "<span style=\"color:red\"> **IF THE CODE ABOVE DID NOT FIND YOUR DOWNLOADED FILE, UNCOMMENT AND CHANGE THE `\"YOUR FILEPATH HERE\"` VARIABLE ONLY IN THE CELL BELOW**"
   ]
  },
  {
   "cell_type": "markdown",
   "id": "640ac578",
   "metadata": {},
   "source": [
    "<span style=\"color:red\"> **DO NOT CHANGE ANYTHING IN THE CELL BELOW**"
   ]
  },
  {
   "cell_type": "markdown",
   "id": "894c80f3",
   "metadata": {},
   "source": [
    "# 🔄 Full Workflow"
   ]
  },
  {
   "cell_type": "markdown",
   "id": "b6fefbd7",
   "metadata": {},
   "source": [
    "- Now that your RAW_FILE variable is set either:\n",
    "    - On the toolbar, click on the Kernel menu > \"Restart and Run All\".\n",
    "    - OR click on this cell first, then on the toolbar click on the \"Cell\" menu > \"Run All Below\""
   ]
  },
  {
   "cell_type": "code",
   "execution_count": 1,
   "id": "9ff0f1ee",
   "metadata": {},
   "outputs": [],
   "source": [
    "import pandas as pd\n",
    "import holidays\n",
    "import datetime as dt\n",
    "from holidays import country_holidays\n",
    "import numpy as np\n",
    "import matplotlib as mpl\n",
    "import matplotlib.pyplot as plt\n",
    "import seaborn as sns\n",
    "import glob "
   ]
  },
  {
   "cell_type": "markdown",
   "id": "4bc8e8ed",
   "metadata": {},
   "source": [
    "- Follow the example usage above to test if your files were created successfully."
   ]
  },
  {
   "cell_type": "code",
   "execution_count": 2,
   "id": "23f44c51",
   "metadata": {
    "ExecuteTime": {
     "end_time": "2023-07-13T18:41:03.084274Z",
     "start_time": "2023-07-13T18:41:02.852773Z"
    }
   },
   "outputs": [
    {
     "data": {
      "text/html": [
       "<div>\n",
       "<style scoped>\n",
       "    .dataframe tbody tr th:only-of-type {\n",
       "        vertical-align: middle;\n",
       "    }\n",
       "\n",
       "    .dataframe tbody tr th {\n",
       "        vertical-align: top;\n",
       "    }\n",
       "\n",
       "    .dataframe thead th {\n",
       "        text-align: right;\n",
       "    }\n",
       "</style>\n",
       "<table border=\"1\" class=\"dataframe\">\n",
       "  <thead>\n",
       "    <tr style=\"text-align: right;\">\n",
       "      <th></th>\n",
       "      <th>ID</th>\n",
       "      <th>Date</th>\n",
       "      <th>Primary Type</th>\n",
       "      <th>Description</th>\n",
       "      <th>Location Description</th>\n",
       "      <th>Arrest</th>\n",
       "      <th>Domestic</th>\n",
       "      <th>Beat</th>\n",
       "      <th>District</th>\n",
       "      <th>Ward</th>\n",
       "      <th>Latitude</th>\n",
       "      <th>Longitude</th>\n",
       "    </tr>\n",
       "  </thead>\n",
       "  <tbody>\n",
       "    <tr>\n",
       "      <th>0</th>\n",
       "      <td>1410662</td>\n",
       "      <td>01/01/2001 01:00:00 AM</td>\n",
       "      <td>ASSAULT</td>\n",
       "      <td>SIMPLE</td>\n",
       "      <td>RESIDENCE</td>\n",
       "      <td>False</td>\n",
       "      <td>True</td>\n",
       "      <td>223</td>\n",
       "      <td>2.0</td>\n",
       "      <td>NaN</td>\n",
       "      <td>41.803253</td>\n",
       "      <td>-87.608098</td>\n",
       "    </tr>\n",
       "    <tr>\n",
       "      <th>1</th>\n",
       "      <td>1330412</td>\n",
       "      <td>01/01/2001 01:00:00 AM</td>\n",
       "      <td>THEFT</td>\n",
       "      <td>$500 AND UNDER</td>\n",
       "      <td>TAVERN/LIQUOR STORE</td>\n",
       "      <td>False</td>\n",
       "      <td>False</td>\n",
       "      <td>1813</td>\n",
       "      <td>18.0</td>\n",
       "      <td>NaN</td>\n",
       "      <td>41.917383</td>\n",
       "      <td>-87.648623</td>\n",
       "    </tr>\n",
       "    <tr>\n",
       "      <th>2</th>\n",
       "      <td>1328315</td>\n",
       "      <td>01/01/2001 01:00:00 AM</td>\n",
       "      <td>DECEPTIVE PRACTICE</td>\n",
       "      <td>FRAUD OR CONFIDENCE GAME</td>\n",
       "      <td>RESIDENCE</td>\n",
       "      <td>False</td>\n",
       "      <td>False</td>\n",
       "      <td>725</td>\n",
       "      <td>7.0</td>\n",
       "      <td>NaN</td>\n",
       "      <td>41.771269</td>\n",
       "      <td>-87.662929</td>\n",
       "    </tr>\n",
       "    <tr>\n",
       "      <th>3</th>\n",
       "      <td>1311626</td>\n",
       "      <td>01/01/2001 01:00:00 AM</td>\n",
       "      <td>CRIMINAL DAMAGE</td>\n",
       "      <td>TO VEHICLE</td>\n",
       "      <td>STREET</td>\n",
       "      <td>False</td>\n",
       "      <td>False</td>\n",
       "      <td>1033</td>\n",
       "      <td>10.0</td>\n",
       "      <td>NaN</td>\n",
       "      <td>41.848786</td>\n",
       "      <td>-87.704087</td>\n",
       "    </tr>\n",
       "    <tr>\n",
       "      <th>4</th>\n",
       "      <td>1310586</td>\n",
       "      <td>01/01/2001 01:00:00 AM</td>\n",
       "      <td>THEFT</td>\n",
       "      <td>$500 AND UNDER</td>\n",
       "      <td>STREET</td>\n",
       "      <td>False</td>\n",
       "      <td>False</td>\n",
       "      <td>911</td>\n",
       "      <td>9.0</td>\n",
       "      <td>NaN</td>\n",
       "      <td>41.798298</td>\n",
       "      <td>-87.692856</td>\n",
       "    </tr>\n",
       "    <tr>\n",
       "      <th>...</th>\n",
       "      <td>...</td>\n",
       "      <td>...</td>\n",
       "      <td>...</td>\n",
       "      <td>...</td>\n",
       "      <td>...</td>\n",
       "      <td>...</td>\n",
       "      <td>...</td>\n",
       "      <td>...</td>\n",
       "      <td>...</td>\n",
       "      <td>...</td>\n",
       "      <td>...</td>\n",
       "      <td>...</td>\n",
       "    </tr>\n",
       "    <tr>\n",
       "      <th>172382</th>\n",
       "      <td>13196745</td>\n",
       "      <td>09/02/2023 12:00:00 AM</td>\n",
       "      <td>CRIMINAL DAMAGE</td>\n",
       "      <td>TO VEHICLE</td>\n",
       "      <td>STREET</td>\n",
       "      <td>False</td>\n",
       "      <td>False</td>\n",
       "      <td>212</td>\n",
       "      <td>2.0</td>\n",
       "      <td>4.0</td>\n",
       "      <td>41.830110</td>\n",
       "      <td>-87.610058</td>\n",
       "    </tr>\n",
       "    <tr>\n",
       "      <th>172383</th>\n",
       "      <td>13198188</td>\n",
       "      <td>09/02/2023 12:00:00 AM</td>\n",
       "      <td>MOTOR VEHICLE THEFT</td>\n",
       "      <td>AUTOMOBILE</td>\n",
       "      <td>STREET</td>\n",
       "      <td>False</td>\n",
       "      <td>False</td>\n",
       "      <td>1623</td>\n",
       "      <td>16.0</td>\n",
       "      <td>45.0</td>\n",
       "      <td>41.974300</td>\n",
       "      <td>-87.758644</td>\n",
       "    </tr>\n",
       "    <tr>\n",
       "      <th>172384</th>\n",
       "      <td>13196743</td>\n",
       "      <td>09/02/2023 12:00:00 AM</td>\n",
       "      <td>BATTERY</td>\n",
       "      <td>AGGRAVATED - HANDGUN</td>\n",
       "      <td>STREET</td>\n",
       "      <td>False</td>\n",
       "      <td>False</td>\n",
       "      <td>1422</td>\n",
       "      <td>14.0</td>\n",
       "      <td>26.0</td>\n",
       "      <td>41.907311</td>\n",
       "      <td>-87.712836</td>\n",
       "    </tr>\n",
       "    <tr>\n",
       "      <th>172385</th>\n",
       "      <td>13197347</td>\n",
       "      <td>09/02/2023 12:00:00 AM</td>\n",
       "      <td>THEFT</td>\n",
       "      <td>OVER $500</td>\n",
       "      <td>STREET</td>\n",
       "      <td>False</td>\n",
       "      <td>False</td>\n",
       "      <td>1424</td>\n",
       "      <td>14.0</td>\n",
       "      <td>1.0</td>\n",
       "      <td>41.907663</td>\n",
       "      <td>-87.675387</td>\n",
       "    </tr>\n",
       "    <tr>\n",
       "      <th>172386</th>\n",
       "      <td>13199185</td>\n",
       "      <td>09/02/2023 12:00:00 AM</td>\n",
       "      <td>MOTOR VEHICLE THEFT</td>\n",
       "      <td>AUTOMOBILE</td>\n",
       "      <td>STREET</td>\n",
       "      <td>False</td>\n",
       "      <td>False</td>\n",
       "      <td>621</td>\n",
       "      <td>6.0</td>\n",
       "      <td>17.0</td>\n",
       "      <td>41.748310</td>\n",
       "      <td>-87.645186</td>\n",
       "    </tr>\n",
       "  </tbody>\n",
       "</table>\n",
       "<p>7885610 rows × 12 columns</p>\n",
       "</div>"
      ],
      "text/plain": [
       "              ID                    Date         Primary Type  \\\n",
       "0        1410662  01/01/2001 01:00:00 AM              ASSAULT   \n",
       "1        1330412  01/01/2001 01:00:00 AM                THEFT   \n",
       "2        1328315  01/01/2001 01:00:00 AM   DECEPTIVE PRACTICE   \n",
       "3        1311626  01/01/2001 01:00:00 AM      CRIMINAL DAMAGE   \n",
       "4        1310586  01/01/2001 01:00:00 AM                THEFT   \n",
       "...          ...                     ...                  ...   \n",
       "172382  13196745  09/02/2023 12:00:00 AM      CRIMINAL DAMAGE   \n",
       "172383  13198188  09/02/2023 12:00:00 AM  MOTOR VEHICLE THEFT   \n",
       "172384  13196743  09/02/2023 12:00:00 AM              BATTERY   \n",
       "172385  13197347  09/02/2023 12:00:00 AM                THEFT   \n",
       "172386  13199185  09/02/2023 12:00:00 AM  MOTOR VEHICLE THEFT   \n",
       "\n",
       "                     Description Location Description  Arrest  Domestic  Beat  \\\n",
       "0                         SIMPLE            RESIDENCE   False      True   223   \n",
       "1                 $500 AND UNDER  TAVERN/LIQUOR STORE   False     False  1813   \n",
       "2       FRAUD OR CONFIDENCE GAME            RESIDENCE   False     False   725   \n",
       "3                     TO VEHICLE               STREET   False     False  1033   \n",
       "4                 $500 AND UNDER               STREET   False     False   911   \n",
       "...                          ...                  ...     ...       ...   ...   \n",
       "172382                TO VEHICLE               STREET   False     False   212   \n",
       "172383                AUTOMOBILE               STREET   False     False  1623   \n",
       "172384      AGGRAVATED - HANDGUN               STREET   False     False  1422   \n",
       "172385                 OVER $500               STREET   False     False  1424   \n",
       "172386                AUTOMOBILE               STREET   False     False   621   \n",
       "\n",
       "        District  Ward   Latitude  Longitude  \n",
       "0            2.0   NaN  41.803253 -87.608098  \n",
       "1           18.0   NaN  41.917383 -87.648623  \n",
       "2            7.0   NaN  41.771269 -87.662929  \n",
       "3           10.0   NaN  41.848786 -87.704087  \n",
       "4            9.0   NaN  41.798298 -87.692856  \n",
       "...          ...   ...        ...        ...  \n",
       "172382       2.0   4.0  41.830110 -87.610058  \n",
       "172383      16.0  45.0  41.974300 -87.758644  \n",
       "172384      14.0  26.0  41.907311 -87.712836  \n",
       "172385      14.0   1.0  41.907663 -87.675387  \n",
       "172386       6.0  17.0  41.748310 -87.645186  \n",
       "\n",
       "[7885610 rows x 12 columns]"
      ]
     },
     "execution_count": 2,
     "metadata": {},
     "output_type": "execute_result"
    }
   ],
   "source": [
    "# get list of files from folder\n",
    "OUTPUT_FOLDER = 'Data/Chicago/'\n",
    "crime_files = sorted(glob.glob(OUTPUT_FOLDER+\"*.csv\"))\n",
    "df = pd.concat([pd.read_csv(f) for f in crime_files])\n",
    "df"
   ]
  },
  {
   "cell_type": "code",
   "execution_count": 3,
   "id": "9552508d",
   "metadata": {
    "ExecuteTime": {
     "end_time": "2023-07-13T18:41:03.099901Z",
     "start_time": "2023-07-13T18:41:03.084274Z"
    }
   },
   "outputs": [
    {
     "data": {
      "text/plain": [
       "2001    485888\n",
       "2002    486807\n",
       "2003    475985\n",
       "2004    469422\n",
       "2005    453773\n",
       "2006    448179\n",
       "2007    437088\n",
       "2008    427183\n",
       "2009    392827\n",
       "2010    370514\n",
       "2011    351993\n",
       "2012    336320\n",
       "2013    307537\n",
       "2014    275790\n",
       "2015    264788\n",
       "2016    269827\n",
       "2017    269103\n",
       "2018    268905\n",
       "2019    261336\n",
       "2020    212210\n",
       "2021    208847\n",
       "2022    238901\n",
       "2023    172387\n",
       "Name: Date, dtype: int64"
      ]
     },
     "execution_count": 3,
     "metadata": {},
     "output_type": "execute_result"
    }
   ],
   "source": [
    "years = df['Date'].map(lambda x: x.split()[0].split('/')[-1])\n",
    "years.value_counts().sort_index()"
   ]
  },
  {
   "cell_type": "markdown",
   "id": "999fe20a",
   "metadata": {},
   "source": [
    "## Summary"
   ]
  },
  {
   "cell_type": "markdown",
   "id": "cda0d418",
   "metadata": {},
   "source": [
    "- The chicago crime dataset has now been saved to your repository as csv files. \n",
    "- You should save your notebook, commit your work and push to GitHub using GitHub desktop."
   ]
  },
  {
   "cell_type": "markdown",
   "id": "1b120c65",
   "metadata": {},
   "source": [
    "## Topics and Answers"
   ]
  },
  {
   "cell_type": "markdown",
   "id": "75ad2bb0",
   "metadata": {},
   "source": [
    "# Topic 3: Comparing AM vs PM Rush Hour\n",
    "Q1:Are crimes more common during AM rush hour or PM rush hour?\n",
    "You can consider any crime that occurred between 7 AM - 10 AM as AM rush hour\n",
    "You can consider any crime that occurred between 4 -7 PM as PM rush hour. \n",
    "A1: There is equal number of crime during AM and PM rush hour.\n",
    "Q2:What are the top 5 most common crimes during AM rush hour? What are the top 5 most common crimes during PM rush hour?\n",
    "Are Motor Vehicle Thefts more common during AM rush hour or PM Rush Hour?\n",
    "A2: Motor Vehicle Thefts are more common during AM rush hour. \n",
    "\n",
    "AM Crimes:\n",
    "1. Motor Vehicle Thefts\n",
    "2. Property Damage\n",
    "3. Vehicle Damage \n",
    "\n",
    "PM Crimes:\n",
    "1. Theft $500 and under\n",
    "\n",
    "2. Domestic Battery \n",
    "3. Finanical Identity Theft over $300 dollars"
   ]
  },
  {
   "cell_type": "code",
   "execution_count": 5,
   "id": "84881bc6",
   "metadata": {},
   "outputs": [
    {
     "name": "stdout",
     "output_type": "stream",
     "text": [
      "<class 'pandas.core.frame.DataFrame'>\n",
      "Int64Index: 7885610 entries, 0 to 172386\n",
      "Data columns (total 12 columns):\n",
      " #   Column                Dtype         \n",
      "---  ------                -----         \n",
      " 0   ID                    int64         \n",
      " 1   Date                  datetime64[ns]\n",
      " 2   Primary Type          object        \n",
      " 3   Description           object        \n",
      " 4   Location Description  object        \n",
      " 5   Arrest                bool          \n",
      " 6   Domestic              bool          \n",
      " 7   Beat                  int64         \n",
      " 8   District              float64       \n",
      " 9   Ward                  float64       \n",
      " 10  Latitude              float64       \n",
      " 11  Longitude             float64       \n",
      "dtypes: bool(2), datetime64[ns](1), float64(4), int64(2), object(3)\n",
      "memory usage: 676.8+ MB\n"
     ]
    }
   ],
   "source": [
    "df['Date'] = pd.to_datetime(df['Date'], format=\"%m/%d/%Y %I:%M:%S %p\")\n",
    "df.info()"
   ]
  },
  {
   "cell_type": "code",
   "execution_count": 7,
   "id": "85dff49e",
   "metadata": {
    "scrolled": true
   },
   "outputs": [
    {
     "data": {
      "text/html": [
       "<div>\n",
       "<style scoped>\n",
       "    .dataframe tbody tr th:only-of-type {\n",
       "        vertical-align: middle;\n",
       "    }\n",
       "\n",
       "    .dataframe tbody tr th {\n",
       "        vertical-align: top;\n",
       "    }\n",
       "\n",
       "    .dataframe thead th {\n",
       "        text-align: right;\n",
       "    }\n",
       "</style>\n",
       "<table border=\"1\" class=\"dataframe\">\n",
       "  <thead>\n",
       "    <tr style=\"text-align: right;\">\n",
       "      <th></th>\n",
       "      <th>ID</th>\n",
       "      <th>Date</th>\n",
       "      <th>Primary Type</th>\n",
       "      <th>Description</th>\n",
       "      <th>Location Description</th>\n",
       "      <th>Arrest</th>\n",
       "      <th>Domestic</th>\n",
       "      <th>Beat</th>\n",
       "      <th>District</th>\n",
       "      <th>Ward</th>\n",
       "      <th>Latitude</th>\n",
       "      <th>Longitude</th>\n",
       "      <th>Hour</th>\n",
       "    </tr>\n",
       "  </thead>\n",
       "  <tbody>\n",
       "    <tr>\n",
       "      <th>0</th>\n",
       "      <td>1410662</td>\n",
       "      <td>2001-01-01 01:00:00</td>\n",
       "      <td>ASSAULT</td>\n",
       "      <td>SIMPLE</td>\n",
       "      <td>RESIDENCE</td>\n",
       "      <td>False</td>\n",
       "      <td>True</td>\n",
       "      <td>223</td>\n",
       "      <td>2.0</td>\n",
       "      <td>NaN</td>\n",
       "      <td>41.803253</td>\n",
       "      <td>-87.608098</td>\n",
       "      <td>1</td>\n",
       "    </tr>\n",
       "    <tr>\n",
       "      <th>1</th>\n",
       "      <td>1330412</td>\n",
       "      <td>2001-01-01 01:00:00</td>\n",
       "      <td>THEFT</td>\n",
       "      <td>$500 AND UNDER</td>\n",
       "      <td>TAVERN/LIQUOR STORE</td>\n",
       "      <td>False</td>\n",
       "      <td>False</td>\n",
       "      <td>1813</td>\n",
       "      <td>18.0</td>\n",
       "      <td>NaN</td>\n",
       "      <td>41.917383</td>\n",
       "      <td>-87.648623</td>\n",
       "      <td>1</td>\n",
       "    </tr>\n",
       "    <tr>\n",
       "      <th>2</th>\n",
       "      <td>1328315</td>\n",
       "      <td>2001-01-01 01:00:00</td>\n",
       "      <td>DECEPTIVE PRACTICE</td>\n",
       "      <td>FRAUD OR CONFIDENCE GAME</td>\n",
       "      <td>RESIDENCE</td>\n",
       "      <td>False</td>\n",
       "      <td>False</td>\n",
       "      <td>725</td>\n",
       "      <td>7.0</td>\n",
       "      <td>NaN</td>\n",
       "      <td>41.771269</td>\n",
       "      <td>-87.662929</td>\n",
       "      <td>1</td>\n",
       "    </tr>\n",
       "    <tr>\n",
       "      <th>3</th>\n",
       "      <td>1311626</td>\n",
       "      <td>2001-01-01 01:00:00</td>\n",
       "      <td>CRIMINAL DAMAGE</td>\n",
       "      <td>TO VEHICLE</td>\n",
       "      <td>STREET</td>\n",
       "      <td>False</td>\n",
       "      <td>False</td>\n",
       "      <td>1033</td>\n",
       "      <td>10.0</td>\n",
       "      <td>NaN</td>\n",
       "      <td>41.848786</td>\n",
       "      <td>-87.704087</td>\n",
       "      <td>1</td>\n",
       "    </tr>\n",
       "    <tr>\n",
       "      <th>4</th>\n",
       "      <td>1310586</td>\n",
       "      <td>2001-01-01 01:00:00</td>\n",
       "      <td>THEFT</td>\n",
       "      <td>$500 AND UNDER</td>\n",
       "      <td>STREET</td>\n",
       "      <td>False</td>\n",
       "      <td>False</td>\n",
       "      <td>911</td>\n",
       "      <td>9.0</td>\n",
       "      <td>NaN</td>\n",
       "      <td>41.798298</td>\n",
       "      <td>-87.692856</td>\n",
       "      <td>1</td>\n",
       "    </tr>\n",
       "  </tbody>\n",
       "</table>\n",
       "</div>"
      ],
      "text/plain": [
       "        ID                Date        Primary Type               Description  \\\n",
       "0  1410662 2001-01-01 01:00:00             ASSAULT                    SIMPLE   \n",
       "1  1330412 2001-01-01 01:00:00               THEFT            $500 AND UNDER   \n",
       "2  1328315 2001-01-01 01:00:00  DECEPTIVE PRACTICE  FRAUD OR CONFIDENCE GAME   \n",
       "3  1311626 2001-01-01 01:00:00     CRIMINAL DAMAGE                TO VEHICLE   \n",
       "4  1310586 2001-01-01 01:00:00               THEFT            $500 AND UNDER   \n",
       "\n",
       "  Location Description  Arrest  Domestic  Beat  District  Ward   Latitude  \\\n",
       "0            RESIDENCE   False      True   223       2.0   NaN  41.803253   \n",
       "1  TAVERN/LIQUOR STORE   False     False  1813      18.0   NaN  41.917383   \n",
       "2            RESIDENCE   False     False   725       7.0   NaN  41.771269   \n",
       "3               STREET   False     False  1033      10.0   NaN  41.848786   \n",
       "4               STREET   False     False   911       9.0   NaN  41.798298   \n",
       "\n",
       "   Longitude  Hour  \n",
       "0 -87.608098     1  \n",
       "1 -87.648623     1  \n",
       "2 -87.662929     1  \n",
       "3 -87.704087     1  \n",
       "4 -87.692856     1  "
      ]
     },
     "execution_count": 7,
     "metadata": {},
     "output_type": "execute_result"
    }
   ],
   "source": [
    "df['Hour']= df['Date'].dt.hour\n",
    "df.head()"
   ]
  },
  {
   "cell_type": "code",
   "execution_count": 23,
   "id": "682c4bd1",
   "metadata": {},
   "outputs": [],
   "source": [
    "HourCounts = df['Hour'].value_counts().sort_index()"
   ]
  },
  {
   "cell_type": "code",
   "execution_count": 24,
   "id": "87279f12",
   "metadata": {},
   "outputs": [
    {
     "data": {
      "text/plain": [
       "0     451985\n",
       "1     250360\n",
       "2     211248\n",
       "3     171073\n",
       "4     130231\n",
       "5     108731\n",
       "6     126601\n",
       "7     180386\n",
       "8     266720\n",
       "9     340548\n",
       "10    334145\n",
       "11    349469\n",
       "12    452410\n",
       "13    373879\n",
       "14    397045\n",
       "15    419607\n",
       "16    398156\n",
       "17    405248\n",
       "18    430852\n",
       "19    443520\n",
       "20    441891\n",
       "21    428544\n",
       "22    421689\n",
       "23    351272\n",
       "Name: Hour, dtype: int64"
      ]
     },
     "execution_count": 24,
     "metadata": {},
     "output_type": "execute_result"
    }
   ],
   "source": [
    "HourCounts"
   ]
  },
  {
   "cell_type": "code",
   "execution_count": 12,
   "id": "2a628b6f",
   "metadata": {},
   "outputs": [],
   "source": [
    "AMCrime = HourCounts[[7, 8, 9, 10]]"
   ]
  },
  {
   "cell_type": "code",
   "execution_count": 19,
   "id": "cb47c7dc",
   "metadata": {},
   "outputs": [],
   "source": [
    "PMCrime = HourCounts[[16, 17, 18, 19]]"
   ]
  },
  {
   "cell_type": "code",
   "execution_count": 35,
   "id": "ab087ed6",
   "metadata": {},
   "outputs": [
    {
     "data": {
      "text/plain": [
       "<matplotlib.legend.Legend at 0x11f6c71e8b0>"
      ]
     },
     "execution_count": 35,
     "metadata": {},
     "output_type": "execute_result"
    },
    {
     "data": {
      "image/png": "[encoded data removed]",
      "text/plain": [
       "<Figure size 640x480 with 1 Axes>"
      ]
     },
     "metadata": {},
     "output_type": "display_data"
    }
   ],
   "source": [
    "ax = HourCounts.plot()\n",
    "ax.axvspan(7,10, alpha=.2, color='yellow', label='AM Rush Hour')\n",
    "ax.axvspan(16,19, alpha=0.2, color='red', label='PM Rush Hour')\n",
    "ax.legend()"
   ]
  },
  {
   "cell_type": "code",
   "execution_count": null,
   "id": "c1318a09",
   "metadata": {},
   "outputs": [],
   "source": [
    "df['']"
   ]
  },
  {
   "cell_type": "code",
   "execution_count": null,
   "id": "96a021e9",
   "metadata": {},
   "outputs": [],
   "source": [
    "## Get # of crimes by Hour\n",
    "crimes_by_hour = df.groupby('Description')['Date'].value_counts().sort_index()\n",
    "crimes_by_hour"
   ]
  },
  {
   "cell_type": "code",
   "execution_count": null,
   "id": "19b36e43",
   "metadata": {},
   "outputs": [],
   "source": [
    "crimes_by_hour.plot();"
   ]
  },
  {
   "cell_type": "code",
   "execution_count": null,
   "id": "b2db930a",
   "metadata": {},
   "outputs": [],
   "source": []
  },
  {
   "cell_type": "code",
   "execution_count": null,
   "id": "f399787c",
   "metadata": {},
   "outputs": [],
   "source": [
    "## convert to dataframe and reset_index()\n",
    "plot_df = crimes_by_hour.to_frame('# of Crimes').reset_index()\n",
    "plot_df"
   ]
  },
  {
   "cell_type": "code",
   "execution_count": null,
   "id": "95ea1e51",
   "metadata": {},
   "outputs": [],
   "source": [
    "ax = sns.lineplot(data=plot_df, x='Date',y='# of Crimes')"
   ]
  },
  {
   "cell_type": "code",
   "execution_count": null,
   "id": "f1b214fb",
   "metadata": {},
   "outputs": [],
   "source": [
    "fig, ax = plt.subplots(figsize=(12,6))\n",
    "sns.lineplot(data=plot_df, x='Date',y='# of Crimes',markers=True,\n",
    "                  hue='Description',ax=ax,)\n",
    "ax.legend(bbox_to_anchor=[1,1]);"
   ]
  },
  {
   "cell_type": "code",
   "execution_count": null,
   "id": "e62f2cdc",
   "metadata": {},
   "outputs": [],
   "source": [
    "g = sns.catplot(data=plot_df, x='Date', y='# of Crimes',\n",
    "                kind='point',aspect=2, height=4,\n",
    "                hue='Description', col='Description',col_wrap=2,\n",
    "               sharey=False, sharex=False)\n",
    "[ax.grid(axis='x') for ax in g.axes];"
   ]
  },
  {
   "cell_type": "code",
   "execution_count": null,
   "id": "ed8dd499",
   "metadata": {},
   "outputs": [],
   "source": [
    "crime_perc_by_hour = df.groupby('Description')['Date'].value_counts(normalize=True).sort_index()\n",
    "crime_perc_by_hour"
   ]
  },
  {
   "cell_type": "code",
   "execution_count": null,
   "id": "8951485e",
   "metadata": {},
   "outputs": [],
   "source": [
    "## Convert to dataframe and reset index\n",
    "plot_df_perc = crime_perc_by_hour.to_frame('# of Crimes').reset_index()\n",
    "plot_df_perc"
   ]
  },
  {
   "cell_type": "code",
   "execution_count": null,
   "id": "6ce0fbc5",
   "metadata": {},
   "outputs": [],
   "source": [
    "# looping through the value counts series\n",
    "val_counts_by_hour = df.groupby('Description')['Date'].value_counts()\n",
    "val_counts_by_hour"
   ]
  },
  {
   "cell_type": "code",
   "execution_count": null,
   "id": "adc6718c",
   "metadata": {},
   "outputs": [],
   "source": [
    "## Getting all of the crimes from the first level of the index\n",
    "crime_list = val_counts_by_hour.index.levels[0]\n",
    "crime_list"
   ]
  },
  {
   "cell_type": "code",
   "execution_count": null,
   "id": "72c61cae",
   "metadata": {},
   "outputs": [],
   "source": [
    "g = sns.catplot(data=plot_df_perc, x='Date', y='# of Crimes',\n",
    "                hue='Description', col='Description',col_wrap=2,\n",
    "            aspect=2, height=4,\n",
    "           kind='point',sharey=False,sharex=False);\n",
    "## loop throught the axes dict\n",
    "for col, ax in g.axes_dict.items():\n",
    "    \n",
    "    ## Extract the idx min and idxmax from the val counts\n",
    "    min_, max_ = val_counts_by_hour.loc[col].agg(['idxmin','idxmax'])\n",
    "    \n",
    "    ## add vlines for both and SAVE THE LINE and a label to use in legend\n",
    "    ln1 = ax.axvline(min_, color='darkgreen',ls='--')\n",
    "    lab1 = f'Min(Hour={min_})'\n",
    "    \n",
    "    ln2 = ax.axvline(max_,color='darkred',ls='--')\n",
    "    lab2 = f'Max(Hour={max_})'\n",
    "    \n",
    "    ## manually add legend using list of ln1 and ln2 and a list of labels\n",
    "    ax.legend( [ln1,ln2], [lab1,lab2] )\n",
    "    ## add x grid\n",
    "    ax.grid(axis='x')\n",
    "    \n",
    "g.fig"
   ]
  },
  {
   "cell_type": "markdown",
   "id": "efdb8211",
   "metadata": {},
   "source": [
    "# Topic 4: Comparing Months\n",
    "Q1. What months have the most crime? What months have the least?\n",
    "\n",
    "Q2.Are there any individual crimes that do not follow this pattern? If so, which crimes?\n",
    "\n",
    "A1. During the Prime Summer months between April- August there is a spike in crime and during the Prime Winter months of October- January there is a spike in crime as well. Months of February, March, and September have the least amount of crime. \n",
    "\n",
    "A2. There are no individual crimes that do not follow this pattern."
   ]
  },
  {
   "cell_type": "markdown",
   "id": "162299c3",
   "metadata": {},
   "source": [
    "# Topic 5: Comparing Holidays:\n",
    "Q1: Are there any holidays that show an increase in the # of crimes?\n",
    "Q2: Are there any holidays that show a decrease in the # of crimes?\n",
    "\n",
    "A1. The main holiday that showed an increase of crime is New Years Day. \n",
    "\n",
    "A2. There are no  holidays that show a decrease in the # of crime."
   ]
  },
  {
   "cell_type": "code",
   "execution_count": null,
   "id": "ce24381a",
   "metadata": {},
   "outputs": [],
   "source": [
    "## making a date range that covers full dataset\n",
    "all_days = pd.date_range(df[\"Date\"].min(), df[\"Date\"].max())\n",
    "all_days"
   ]
  },
  {
   "cell_type": "code",
   "execution_count": null,
   "id": "e22949c7",
   "metadata": {},
   "outputs": [],
   "source": [
    "## Create an instance of the US country holidays.\n",
    "us_holidays = country_holidays('US')\n",
    "us_holidays"
   ]
  },
  {
   "cell_type": "code",
   "execution_count": null,
   "id": "a893d457",
   "metadata": {},
   "outputs": [],
   "source": [
    "## Testing first date\n",
    "print(all_days[0])\n",
    "us_holidays.get(all_days[0])"
   ]
  },
  {
   "cell_type": "code",
   "execution_count": null,
   "id": "340aea16",
   "metadata": {},
   "outputs": [],
   "source": [
    "## Getting us holidays for all dates\n",
    "holiday_list = [us_holidays.get(day) for day in all_days]\n",
    "holiday_list[:5]"
   ]
  },
  {
   "cell_type": "code",
   "execution_count": null,
   "id": "6cb47819",
   "metadata": {},
   "outputs": [],
   "source": [
    "# For a specific subdivisions (e.g. state or province):\n",
    "md_holidays = country_holidays('US', subdiv='MD')\n",
    "md_holidays"
   ]
  },
  {
   "cell_type": "code",
   "execution_count": null,
   "id": "69fccd89",
   "metadata": {},
   "outputs": [],
   "source": [
    "## Saving both holiday types as columns\n",
    "df[\"US Holiday\"] = [us_holidays.get(day) for day in df['Date']]\n",
    "df['MD Holiday'] = [md_holidays.get(day) for day in df['Date']]\n",
    "df.head()"
   ]
  },
  {
   "cell_type": "code",
   "execution_count": null,
   "id": "65d3d771",
   "metadata": {},
   "outputs": [],
   "source": [
    "## US Holidays\n",
    "df['US Holiday'].value_counts()"
   ]
  },
  {
   "cell_type": "code",
   "execution_count": null,
   "id": "7f17c348",
   "metadata": {},
   "outputs": [],
   "source": [
    "## MD Holidays\n",
    "df['MD Holiday'].value_counts()"
   ]
  },
  {
   "cell_type": "code",
   "execution_count": null,
   "id": "61b618e8",
   "metadata": {},
   "outputs": [],
   "source": [
    "## Saving a binary is holiday feature\n",
    "df['Is_Holiday'] = df['US Holiday'].notna()\n",
    "df['Is_Holiday'].value_counts()"
   ]
  }
 ],
 "metadata": {
  "kernelspec": {
   "display_name": "Python (dojo-env)",
   "language": "python",
   "name": "dojo-env"
  },
  "language_info": {
   "codemirror_mode": {
    "name": "ipython",
    "version": 3
   },
   "file_extension": ".py",
   "mimetype": "text/x-python",
   "name": "python",
   "nbconvert_exporter": "python",
   "pygments_lexer": "ipython3",
   "version": "3.9.15"
  },
  "toc": {
   "base_numbering": 1,
   "nav_menu": {},
   "number_sections": false,
   "sideBar": true,
   "skip_h1_title": false,
   "title_cell": "Table of Contents",
   "title_sidebar": "Contents",
   "toc_cell": false,
   "toc_position": {
    "height": "calc(100% - 180px)",
    "left": "10px",
    "top": "150px",
    "width": "262.387px"
   },
   "toc_section_display": true,
   "toc_window_display": false
  }
 },
 "nbformat": 4,
 "nbformat_minor": 5
}
